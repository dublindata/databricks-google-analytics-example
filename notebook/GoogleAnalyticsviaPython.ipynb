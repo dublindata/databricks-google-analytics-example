{
 "cells": [
  {
   "cell_type": "markdown",
   "metadata": {
    "application/vnd.databricks.v1+cell": {
     "cellMetadata": {},
     "inputWidgets": {},
     "nuid": "bd0dcd90-6546-4818-bc2c-90b69d8d3ec9",
     "showTitle": false,
     "title": ""
    }
   },
   "source": [
    "# Calling the Google Analytics API From a Notebook\n",
    "\n",
    "This sample code usese the google-analytics-data Python library to connect to and read data from the Google Analytics API.\n",
    "\n",
    "To run this code, make sure you start a cluster. You should make sure you add the google-analytics-data Python library to the library configuration of the cluster. Note that this code also requires your ```credentials.json``` file and an appropriate environment variable set. For testing, you can upload your credentials file to DBFS and then set your environment varialbe on the cluster configuration page like so:\n",
    "\n",
    "```GOOGLE_APPLICATION_CREDENTIALS=\"/dbfs/FileStore/credentials.json\"```\n",
    "\n",
    "Note: This is not a production-grade solution. You will have to determine the best authentication method to use and how best to secure your credentails. This is just for demonstration purposes!"
   ]
  },
  {
   "cell_type": "code",
   "execution_count": 0,
   "metadata": {
    "application/vnd.databricks.v1+cell": {
     "cellMetadata": {
      "byteLimit": 2048000,
      "rowLimit": 10000
     },
     "inputWidgets": {},
     "nuid": "2b01325a-bbd7-4089-8c50-9fa5db51486b",
     "showTitle": false,
     "title": ""
    }
   },
   "outputs": [],
   "source": [
    "from pyspark.sql.functions import current_timestamp\n",
    "from google.analytics.data_v1beta import BetaAnalyticsDataClient\n",
    "from google.analytics.data_v1beta.types import (\n",
    "    DateRange,\n",
    "    Dimension,\n",
    "    Metric,\n",
    "    RunReportRequest,\n",
    ")\n",
    "import json"
   ]
  },
  {
   "cell_type": "markdown",
   "metadata": {
    "application/vnd.databricks.v1+cell": {
     "cellMetadata": {},
     "inputWidgets": {},
     "nuid": "b44164f7-9cd4-4f6e-b819-0fee39268ad3",
     "showTitle": false,
     "title": ""
    }
   },
   "source": [
    "### Call the API\n",
    "\n",
    "Using the Python library, this code will call the"
   ]
  },
  {
   "cell_type": "code",
   "execution_count": 0,
   "metadata": {
    "application/vnd.databricks.v1+cell": {
     "cellMetadata": {
      "byteLimit": 2048000,
      "rowLimit": 10000
     },
     "inputWidgets": {},
     "nuid": "6b631e47-470c-45dc-b21c-cd6f6c56f1ae",
     "showTitle": false,
     "title": ""
    }
   },
   "outputs": [],
   "source": [
    "#Note: set your own proprety ID before running\n",
    "property_id = \"\"\n",
    "client = BetaAnalyticsDataClient()\n",
    "\n",
    "#Note: You can adjust the date ranges value to capture as much historic data as you want\n",
    "request = RunReportRequest(\n",
    "    property=f\"properties/{property_id}\",\n",
    "    dimensions=[Dimension(name=\"pageTitle\")],\n",
    "    metrics=[Metric(name=\"screenPageViews\")],\n",
    "    date_ranges=[DateRange(start_date=\"2020-03-31\", end_date=\"today\")],\n",
    ")\n",
    "response = client.run_report(request)\n",
    "json_data = []\n",
    "\n",
    "print(\"Report result:\")\n",
    "for row in response.rows:\n",
    "    data = {\n",
    "      \"pageTitle\":row.dimension_values[0].value,\n",
    "      \"screenPageViews\":row.metric_values[0].value\n",
    "    }\n",
    "    json_data.append(data)\n",
    "    print(row.dimension_values[0].value, row.metric_values[0].value)"
   ]
  },
  {
   "cell_type": "code",
   "execution_count": 0,
   "metadata": {
    "application/vnd.databricks.v1+cell": {
     "cellMetadata": {
      "byteLimit": 2048000,
      "rowLimit": 10000
     },
     "inputWidgets": {},
     "nuid": "3a4ed689-3817-4abb-a335-43ae27d8d26b",
     "showTitle": false,
     "title": ""
    }
   },
   "outputs": [],
   "source": [
    "print(response)"
   ]
  },
  {
   "cell_type": "code",
   "execution_count": 0,
   "metadata": {
    "application/vnd.databricks.v1+cell": {
     "cellMetadata": {
      "byteLimit": 2048000,
      "rowLimit": 10000
     },
     "inputWidgets": {},
     "nuid": "0c8b9245-1cd0-4e4f-a02e-1316ef529fbd",
     "showTitle": false,
     "title": ""
    }
   },
   "outputs": [],
   "source": [
    "json_report = json.dumps(json_data)"
   ]
  },
  {
   "cell_type": "code",
   "execution_count": 0,
   "metadata": {
    "application/vnd.databricks.v1+cell": {
     "cellMetadata": {
      "byteLimit": 2048000,
      "rowLimit": 10000
     },
     "inputWidgets": {},
     "nuid": "149b10d9-5835-49f3-bc5f-61184b544ffb",
     "showTitle": false,
     "title": ""
    }
   },
   "outputs": [],
   "source": [
    "print(json_report)"
   ]
  },
  {
   "cell_type": "markdown",
   "metadata": {
    "application/vnd.databricks.v1+cell": {
     "cellMetadata": {},
     "inputWidgets": {},
     "nuid": "3d317ca2-043c-4613-806b-f096cc902c0e",
     "showTitle": false,
     "title": ""
    }
   },
   "source": [
    "Using the report data obtained from the API, convert it to an rdd and then convert the rdd to a Spark dataframe. We also add a column to each result row with the timestamp the report was run."
   ]
  },
  {
   "cell_type": "code",
   "execution_count": 0,
   "metadata": {
    "application/vnd.databricks.v1+cell": {
     "cellMetadata": {
      "byteLimit": 2048000,
      "rowLimit": 10000
     },
     "inputWidgets": {},
     "nuid": "8f7979ff-060a-4f70-9cea-6649f51c27f5",
     "showTitle": false,
     "title": ""
    }
   },
   "outputs": [],
   "source": [
    "json_rdd = sc.parallelize([json_report])"
   ]
  },
  {
   "cell_type": "code",
   "execution_count": 0,
   "metadata": {
    "application/vnd.databricks.v1+cell": {
     "cellMetadata": {
      "byteLimit": 2048000,
      "rowLimit": 10000
     },
     "inputWidgets": {},
     "nuid": "2823fd5c-7c05-4ec7-b9e3-996b38938af7",
     "showTitle": false,
     "title": ""
    }
   },
   "outputs": [],
   "source": [
    "df = spark.read.json(json_rdd)\n",
    "df2 = df.withColumn(\"captureDateTime\", current_timestamp())"
   ]
  },
  {
   "cell_type": "code",
   "execution_count": 0,
   "metadata": {
    "application/vnd.databricks.v1+cell": {
     "cellMetadata": {
      "byteLimit": 2048000,
      "rowLimit": 10000
     },
     "inputWidgets": {},
     "nuid": "c4b9bce0-54cd-4880-b9fd-2ae6c375ab8d",
     "showTitle": false,
     "title": ""
    }
   },
   "outputs": [],
   "source": [
    "display(df2)"
   ]
  },
  {
   "cell_type": "markdown",
   "metadata": {
    "application/vnd.databricks.v1+cell": {
     "cellMetadata": {},
     "inputWidgets": {},
     "nuid": "29104729-4d7f-4a12-892d-8a57d1524556",
     "showTitle": false,
     "title": ""
    }
   },
   "source": [
    "### Create a temporary view of the data, and query it using SQL"
   ]
  },
  {
   "cell_type": "code",
   "execution_count": 0,
   "metadata": {
    "application/vnd.databricks.v1+cell": {
     "cellMetadata": {
      "byteLimit": 2048000,
      "implicitDf": true,
      "rowLimit": 10000
     },
     "inputWidgets": {},
     "nuid": "3b5edd96-6f27-4560-8c17-b3941130104f",
     "showTitle": false,
     "title": ""
    }
   },
   "outputs": [],
   "source": [
    "df2.createOrReplaceTempView(\"latestPageViews\")"
   ]
  },
  {
   "cell_type": "code",
   "execution_count": 0,
   "metadata": {
    "application/vnd.databricks.v1+cell": {
     "cellMetadata": {
      "byteLimit": 2048000,
      "implicitDf": true,
      "rowLimit": 10000
     },
     "inputWidgets": {},
     "nuid": "96c404d7-a9ac-4fa1-993f-33f9caafb92e",
     "showTitle": false,
     "title": ""
    }
   },
   "outputs": [],
   "source": [
    "%sql\n",
    "SELECT * FROM latestPageViews"
   ]
  }
 ],
 "metadata": {
  "application/vnd.databricks.v1+notebook": {
   "dashboards": [],
   "language": "python",
   "notebookMetadata": {
    "mostRecentlyExecutedCommandWithImplicitDF": {
     "commandId": 601305589758950,
     "dataframes": [
      "_sqldf"
     ]
    },
    "pythonIndentUnit": 2
   },
   "notebookName": "Google Analytics via Python to Lakehouse",
   "widgets": {}
  }
 },
 "nbformat": 4,
 "nbformat_minor": 0
}
